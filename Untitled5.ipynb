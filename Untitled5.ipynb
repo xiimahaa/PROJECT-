{
 "cells": [
  {
   "cell_type": "code",
   "execution_count": 21,
   "id": "b1c26b58-c3f4-4fec-ab62-b0178bd2d0a4",
   "metadata": {},
   "outputs": [
    {
     "name": "stdin",
     "output_type": "stream",
     "text": [
      "Enter the path for your data file:  movies.csv\n"
     ]
    },
    {
     "name": "stdout",
     "output_type": "stream",
     "text": [
      "Summary Statistics:\n",
      "       IMDB_Rating  Meta_score    No_of_Votes\n",
      "count    23.000000   23.000000      23.000000\n",
      "mean      7.530435   74.695652  284482.869565\n",
      "std       0.333623   11.810761  173666.447635\n",
      "min       6.000000   52.000000   40351.000000\n",
      "25%       7.600000   67.000000  168126.000000\n",
      "50%       7.600000   76.000000  247666.000000\n",
      "75%       7.600000   82.000000  388009.500000\n",
      "max       7.600000   96.000000  732876.000000\n"
     ]
    }
   ],
   "source": [
    "data_path = input(\"Enter the path for your data file: \")\n",
    "data = DataPrepKit(data_path)\n",
    "summary = data.summary()\n",
    "print(\"Summary Statistics:\")\n",
    "print(summary)"
   ]
  },
  {
   "cell_type": "code",
   "execution_count": 22,
   "id": "9e2cadce-16da-492c-9a09-de05dbb27564",
   "metadata": {},
   "outputs": [
    {
     "name": "stdin",
     "output_type": "stream",
     "text": [
      "Choose missing value strategy ('drop', 'mean', or 'median'):  drop\n"
     ]
    },
    {
     "name": "stdout",
     "output_type": "stream",
     "text": [
      "Cleaned Data:\n",
      "  Series_Title Certificate  Runtime                   Genre  IMDB_Rating  \\\n",
      "0          Her           A  126 min  Drama, Romance, Sci-Fi          6.0   \n",
      "1          300           A  117 min           Action, Drama          7.6   \n",
      "2     21 Grams          UA  124 min  Crime, Drama, Thriller          7.6   \n",
      "3    25Th Hour           R  135 min                   Drama          7.6   \n",
      "4        50/50           R  100 min  Comedy, Drama, Romance          7.6   \n",
      "\n",
      "   Meta_score               Director  No_of_Votes          Gross  \\\n",
      "0          90            Spike Jonze       540772   $25,568,251    \n",
      "1          52            Zack Snyder       732876  $210,614,939    \n",
      "2          70  Alejandro G. Iñárritu       224545   $16,290,476    \n",
      "3          68              Spike Lee       169708   $13,060,843    \n",
      "4          72        Jonathan Levine       315426   $35,014,192    \n",
      "\n",
      "  Released_date Langunges           budget          revenue country  \n",
      "0     1/16/2014   English  $23,000,000.00          48043998      AU  \n",
      "1      4/5/2007   English         60000000        454161935      AU  \n",
      "2     1/22/2004   English         20000000         59667625      AU  \n",
      "3      6/5/2003   English          4500000  $25,344,490.00       AU  \n",
      "4      3/8/2012   English          8000000         41334735      AU  \n"
     ]
    }
   ],
   "source": [
    "strategy = input(\"Choose missing value strategy ('drop', 'mean', or 'median'): \")\n",
    "cleaned_data = data.handle_missing_values(strategy)\n",
    "print(\"Cleaned Data:\")\n",
    "print(cleaned_data.head())"
   ]
  },
  {
   "cell_type": "code",
   "execution_count": 23,
   "id": "6d87300c-8e52-44d1-9520-ba19876140fa",
   "metadata": {},
   "outputs": [
    {
     "name": "stdout",
     "output_type": "stream",
     "text": [
      "Encoded Data :\n",
      "   IMDB_Rating  Meta_score  No_of_Votes  Series_Title_21 Grams  \\\n",
      "0          6.0          90       540772                  False   \n",
      "1          7.6          52       732876                  False   \n",
      "2          7.6          70       224545                   True   \n",
      "3          7.6          68       169708                  False   \n",
      "4          7.6          72       315426                  False   \n",
      "\n",
      "   Series_Title_25Th Hour  Series_Title_300  Series_Title_50/50  \\\n",
      "0                   False             False               False   \n",
      "1                   False              True               False   \n",
      "2                   False             False               False   \n",
      "3                    True             False               False   \n",
      "4                   False             False                True   \n",
      "\n",
      "   Series_Title_A Hard Day'S Night  Series_Title_A Star Is Born  \\\n",
      "0                            False                        False   \n",
      "1                            False                        False   \n",
      "2                            False                        False   \n",
      "3                            False                        False   \n",
      "4                            False                        False   \n",
      "\n",
      "   Series_Title_American Psycho  ...  revenue_48043998  revenue_543464573  \\\n",
      "0                         False  ...              True              False   \n",
      "1                         False  ...             False              False   \n",
      "2                         False  ...             False              False   \n",
      "3                         False  ...             False              False   \n",
      "4                         False  ...             False              False   \n",
      "\n",
      "   revenue_59667625  revenue_710644566  revenue_7961889  revenue_83282296  \\\n",
      "0             False              False            False             False   \n",
      "1             False              False            False             False   \n",
      "2              True              False            False             False   \n",
      "3             False              False            False             False   \n",
      "4             False              False            False             False   \n",
      "\n",
      "   revenue_9500000  country_AU  country_FR  country_GB  \n",
      "0            False        True       False       False  \n",
      "1            False        True       False       False  \n",
      "2            False        True       False       False  \n",
      "3            False        True       False       False  \n",
      "4            False        True       False       False  \n",
      "\n",
      "[5 rows x 188 columns]\n"
     ]
    }
   ],
   "source": [
    "encoded_data = data.encode_categorical()\n",
    "print(\"Encoded Data :\")\n",
    "print(encoded_data.head())"
   ]
  },
  {
   "cell_type": "code",
   "execution_count": null,
   "id": "c8a07b3c-1962-4d38-9a34-08af992eee56",
   "metadata": {},
   "outputs": [],
   "source": []
  }
 ],
 "metadata": {
  "kernelspec": {
   "display_name": "Python 3 (ipykernel)",
   "language": "python",
   "name": "python3"
  },
  "language_info": {
   "codemirror_mode": {
    "name": "ipython",
    "version": 3
   },
   "file_extension": ".py",
   "mimetype": "text/x-python",
   "name": "python",
   "nbconvert_exporter": "python",
   "pygments_lexer": "ipython3",
   "version": "3.11.7"
  }
 },
 "nbformat": 4,
 "nbformat_minor": 5
}
